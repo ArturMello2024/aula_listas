{
 "cells": [
  {
   "cell_type": "code",
   "execution_count": 8,
   "metadata": {},
   "outputs": [
    {
     "name": "stdout",
     "output_type": "stream",
     "text": [
      "True\n"
     ]
    }
   ],
   "source": [
    "def logica(a,b):\n",
    "    return a and b\n",
    "\n",
    "a = bool(input(\"insira uma informação a\"))\n",
    "b = bool(input(\"insira uma informação b\"))\n",
    "\n",
    "resultado = logica(a,b)\n",
    "\n",
    "print(resultado)\n",
    "\n",
    "#identificar se \n"
   ]
  },
  {
   "cell_type": "markdown",
   "metadata": {},
   "source": [
    "Crie uma função para calcular a area de um triangulo \n",
    "Crie uma função para calcular a area de um quadrado\n",
    "Crie uma função para calcular a area de um circulo\n",
    "Crie uma função para calcular a area de um trapezio\n",
    "\n",
    "depois refaça utilizando uma biblioteca, quando necessário"
   ]
  },
  {
   "cell_type": "code",
   "execution_count": null,
   "metadata": {},
   "outputs": [],
   "source": [
    "import math\n",
    "\n",
    "#Crie uma função para calcular a area de um quadrado\n",
    "def area_quadrado(lado):\n",
    "    return math.pow(lado,2)\n",
    "\n",
    "quadrado = area_quadrado(5)\n",
    "print(quadrado)\n",
    "    \n",
    "#Crie uma função para calcular a area de um trapezio    \n",
    "def area_trapezio(base_maior, base_menor, altura):\n",
    "    return ((base_maior + base_menor) * altura) / 2\n",
    "\n",
    "trapezio = area_trapezio(10, 5, 4)\n",
    "print(trapezio)\n",
    "\n",
    "#Crie uma função para calcular a area de um triangulo\n",
    "def area_triangulo(base, altura):\n",
    "    return (base * altura) / 2\n",
    "\n",
    "triangulo = area_triangulo(5,4)\n",
    "print(triangulo)\n",
    "\n",
    "#Crie uma função para calcular a area de um circulo\n",
    "def area_circulo(raio):\n",
    "#    return math.pi * (raio **2)\n",
    "    return math.pi * math.pow(raio,2)\n",
    "\n",
    "circulo = area_circulo(10)\n",
    "print(circulo)\n",
    "\n",
    "#print(\"Vamos calcular a área do quadrado\")\n",
    "#lado = float(input(\"Insira a medida do quadrado:\"))\n",
    "#print(f\" A área do quadrado é {area_quadrado(lado)}\")\n",
    "\n",
    "#print(\"Agora vamos calcular a área do trapezio\")\n",
    "#base_maior = float(input(\"Insira a medida da base maior:\"))\n",
    "#base_menor = float(input(\"Insira a medida da base menor:\"))\n",
    "#altura = float(input(\"Insira a medida da altura:\"))\n",
    "#print(f\" A área do trapézio é {area_trapezio(base_maior, base_menor, altura)}\")\n",
    "\n",
    "#print(\"Agora vamos calcular a área do triangulo\")\n",
    "#base = float(input(\"Insira a medida da base:\"))\n",
    "#altura = float(input(\"Insira a medida da altura:\"))\n",
    "#print(f\" A área do triangulo é {area_triangulo(base, altura)}\")\n",
    "\n",
    "#print(\"Agora vamos calcular a área do círculo: \")\n",
    "#raio = float(input(\"Insira a medida do raio:\"))\n",
    "#print(f\" A área do triangulo é {area_circulo(raio)}\")\n"
   ]
  },
  {
   "cell_type": "code",
   "execution_count": 58,
   "metadata": {},
   "outputs": [
    {
     "name": "stdout",
     "output_type": "stream",
     "text": [
      "(2.0, 2.0)\n"
     ]
    }
   ],
   "source": [
    "import math\n",
    "\n",
    "def delta(a, b, c):\n",
    "    delta1 = math.pow(b,2) - 4*a*c\n",
    "    if delta1 >= 0:\n",
    "        raiz1 = (-b + math.sqrt(delta1))/2*a\n",
    "        raiz2 = (-b - math.sqrt(delta1))/2*a\n",
    "        return raiz1, raiz2\n",
    "    else:\n",
    "        return None\n",
    "    \n",
    "resultado = delta(1, -4, 4)\n",
    "print(resultado)\n",
    "\n",
    "#def baskharax(a, b, c, delta1):\n",
    "#   return ((-b + math.sqrt(b**2 -4 * a * c) ) / 2 * a)\n",
    "#baskhara1 = baskharax(1, -4, +4, delta1)\n",
    "#print(baskhara1)\n",
    "\n",
    "# def baskharay(a, b, c, delta1):\n",
    "#    return ((-b - math.sqrt(b**2 - 4 * a * c) ) / 2 * a)\n",
    "# baskhara2 = baskharay(1, -4, +4, delta1)\n",
    "# print(baskhara2)\n",
    "\n",
    "# x**2-4x+4=0\n",
    "# delta = b² - 4 * a * c"
   ]
  },
  {
   "cell_type": "code",
   "execution_count": null,
   "metadata": {},
   "outputs": [],
   "source": []
  },
  {
   "cell_type": "code",
   "execution_count": null,
   "metadata": {},
   "outputs": [],
   "source": []
  }
 ],
 "metadata": {
  "kernelspec": {
   "display_name": "base",
   "language": "python",
   "name": "python3"
  },
  "language_info": {
   "codemirror_mode": {
    "name": "ipython",
    "version": 3
   },
   "file_extension": ".py",
   "mimetype": "text/x-python",
   "name": "python",
   "nbconvert_exporter": "python",
   "pygments_lexer": "ipython3",
   "version": "3.12.4"
  }
 },
 "nbformat": 4,
 "nbformat_minor": 2
}
