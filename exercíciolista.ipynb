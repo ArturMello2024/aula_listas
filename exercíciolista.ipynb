{
 "cells": [
  {
   "cell_type": "markdown",
   "metadata": {},
   "source": [
    "\n",
    " 1. Olá, Mundo! Escreva um programa que imprime \"Olá, Mundo!\" na tela."
   ]
  },
  {
   "cell_type": "code",
   "execution_count": 1,
   "metadata": {},
   "outputs": [
    {
     "name": "stdout",
     "output_type": "stream",
     "text": [
      "Olá, Mundo!\n"
     ]
    }
   ],
   "source": [
    "print(\"Olá, Mundo!\")"
   ]
  },
  {
   "cell_type": "markdown",
   "metadata": {},
   "source": [
    "2. Soma de Dois Números \n",
    "Peça ao usuário para digitar dois números e imprima a soma deles."
   ]
  },
  {
   "cell_type": "code",
   "execution_count": 2,
   "metadata": {},
   "outputs": [
    {
     "name": "stdout",
     "output_type": "stream",
     "text": [
      "A soma entre os número é 6\n"
     ]
    }
   ],
   "source": [
    "n1 = int(input(\"Insira o valor 1\"))\n",
    "n2 = int(input(\"Insira o valor 2\"))\n",
    "soma = n1+n2\n",
    "\n",
    "print(f\"A soma entre os números é {soma}.\")\n"
   ]
  },
  {
   "cell_type": "markdown",
   "metadata": {},
   "source": [
    " 3. Verificar Par ou Ímpar \n",
    "Peça ao usuário para digitar um número inteiro e informe se o número é par ou ímpar."
   ]
  },
  {
   "cell_type": "code",
   "execution_count": 5,
   "metadata": {},
   "outputs": [
    {
     "name": "stdout",
     "output_type": "stream",
     "text": [
      "Par\n"
     ]
    }
   ],
   "source": [
    "numero = int(input('Digite um número inteiro: '))\n",
    "\n",
    "if (numero%2) == 0:\n",
    "        print(\"Par\")\n",
    "else:\n",
    "        print(\"Ímpar\")"
   ]
  },
  {
   "cell_type": "markdown",
   "metadata": {},
   "source": [
    "   4. Calculadora Simples \n",
    "Crie um programa que peça dois números e a operação desejada (+, -, *, /) e exiba o resultado."
   ]
  },
  {
   "cell_type": "code",
   "execution_count": 71,
   "metadata": {},
   "outputs": [
    {
     "name": "stdout",
     "output_type": "stream",
     "text": [
      "O resultado da operação é 4\n"
     ]
    }
   ],
   "source": [
    "n1 = int(input(\"Insira o valor 1\"))\n",
    "n2 = int(input(\"Insira o valor 2\"))\n",
    "operação = input(\"Insira a operação, (+, -, /, *)\")\n",
    "\n",
    "if (operação) == \"+\":\n",
    "    print(f\"O resultado da operação é {(n1 + n2)}\")\n",
    "elif (operação) == \"-\":\n",
    "    print(f\"O resultado da operação é {(n1 - n2)}\")\n",
    "elif (operação) == \"*\":\n",
    "    print(f\"O resultado da operação é {(n1 * n2)}\")\n",
    "elif (operação) == \"/\":\n",
    "    print(f\"O resultado da operação é {(n1 / n2)}\")\n",
    "\n",
    "\n"
   ]
  },
  {
   "cell_type": "markdown",
   "metadata": {},
   "source": [
    "5. Média de Notas \n",
    "Peça ao usuário para digitar três notas e calcule a média delas."
   ]
  },
  {
   "cell_type": "code",
   "execution_count": 74,
   "metadata": {},
   "outputs": [
    {
     "name": "stdout",
     "output_type": "stream",
     "text": [
      "A média entre 5 e 5 e 5 é 5.0\n"
     ]
    }
   ],
   "source": [
    "n1 = int(input(\"Insira o valor 1\"))\n",
    "n2 = int(input(\"Insira o valor 2\"))\n",
    "n3 = int(input(\"Insira o valor 2\"))\n",
    "media = (n1+n2+n3)/3\n",
    "\n",
    "print(f\"A média entre {n1} e {n2} e {n3} é {media}\")"
   ]
  },
  {
   "cell_type": "markdown",
   "metadata": {},
   "source": [
    "   6. Converter Celsius para Fahrenheit \n",
    "Escreva um programa que converta uma temperatura de graus Celsius para Fahrenheit."
   ]
  },
  {
   "cell_type": "code",
   "execution_count": 28,
   "metadata": {},
   "outputs": [
    {
     "name": "stdout",
     "output_type": "stream",
     "text": [
      "A temperatura em Fahrenheit é 96.8\n"
     ]
    }
   ],
   "source": [
    "# F = C x 1,8 + 32 \n",
    "\n",
    "n1 = int(input(\"Insira a temperatura em Celsius\"))\n",
    "F = (n1*1.8) + 32\n",
    "print(f\"A temperatura em Fahrenheit é {F}\")"
   ]
  },
  {
   "cell_type": "markdown",
   "metadata": {},
   "source": [
    "7. Fatorial de um Número \n",
    "Peça ao usuário para digitar um número e calcule o fatorial desse número."
   ]
  },
  {
   "cell_type": "code",
   "execution_count": 38,
   "metadata": {},
   "outputs": [
    {
     "name": "stdout",
     "output_type": "stream",
     "text": [
      "5040\n"
     ]
    }
   ],
   "source": [
    "numero = int(input(\"Fatorial de: \") )\n",
    "\n",
    "resultado=1\n",
    "count=1\n",
    "\n",
    "while count <= numero:\n",
    "    resultado *= count\n",
    "    count += 1\n",
    "\n",
    "print(resultado)"
   ]
  },
  {
   "cell_type": "markdown",
   "metadata": {},
   "source": [
    "   8. Contagem de Números Ímpares \n",
    "Escreva um programa que conta e imprime todos os números ímpares entre 1 e 100."
   ]
  },
  {
   "cell_type": "code",
   "execution_count": null,
   "metadata": {},
   "outputs": [],
   "source": [
    "for i in range(1, 101):\n",
    "    if (i%2) == 0:\n",
    "        print(f\"{i}= Par\")\n",
    "    elif (i%2) == 1:\n",
    "        print(f\"{i}= impar\")"
   ]
  },
  {
   "cell_type": "markdown",
   "metadata": {},
   "source": [
    "   9. Verificar Número Primo \n",
    "Peça ao usuário para digitar um número e verifique se ele é primo."
   ]
  },
  {
   "cell_type": "code",
   "execution_count": 70,
   "metadata": {},
   "outputs": [
    {
     "name": "stdout",
     "output_type": "stream",
     "text": [
      "NÃO é primo\n"
     ]
    }
   ],
   "source": [
    "from sympy import isprime\n",
    "\n",
    "numero = int(input(\"Digite um número: \"))\n",
    "if isprime(numero):\n",
    "    print(\"É primo\")\n",
    "else:\n",
    "    print(\"NÃO é primo\")"
   ]
  },
  {
   "cell_type": "markdown",
   "metadata": {},
   "source": [
    "   10. Inverter uma String \n",
    "Peça ao usuário para digitar uma string e imprima essa string de forma invertida."
   ]
  },
  {
   "cell_type": "code",
   "execution_count": 73,
   "metadata": {},
   "outputs": [
    {
     "name": "stdout",
     "output_type": "stream",
     "text": [
      "ajol\n"
     ]
    }
   ],
   "source": [
    "texto = (input(\"insira um texto\"))\n",
    "string_invertida = ''.join(reversed(texto))\n",
    "print(string_invertida)"
   ]
  }
 ],
 "metadata": {
  "kernelspec": {
   "display_name": "base",
   "language": "python",
   "name": "python3"
  },
  "language_info": {
   "codemirror_mode": {
    "name": "ipython",
    "version": 3
   },
   "file_extension": ".py",
   "mimetype": "text/x-python",
   "name": "python",
   "nbconvert_exporter": "python",
   "pygments_lexer": "ipython3",
   "version": "3.12.4"
  }
 },
 "nbformat": 4,
 "nbformat_minor": 2
}
